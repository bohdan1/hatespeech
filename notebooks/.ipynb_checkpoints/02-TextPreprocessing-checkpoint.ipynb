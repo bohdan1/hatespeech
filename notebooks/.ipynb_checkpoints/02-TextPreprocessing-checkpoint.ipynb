{
 "cells": [
  {
   "cell_type": "code",
   "execution_count": 1,
   "metadata": {},
   "outputs": [],
   "source": [
    "import pandas as pd\n",
    "from alphabet_detector import AlphabetDetector"
   ]
  },
  {
   "cell_type": "code",
   "execution_count": 2,
   "metadata": {},
   "outputs": [],
   "source": [
    "import string"
   ]
  },
  {
   "cell_type": "code",
   "execution_count": 3,
   "metadata": {},
   "outputs": [],
   "source": [
    "import re"
   ]
  },
  {
   "cell_type": "code",
   "execution_count": 15,
   "metadata": {},
   "outputs": [],
   "source": [
    "path = '../data/comments1.csv'"
   ]
  },
  {
   "cell_type": "code",
   "execution_count": 16,
   "metadata": {},
   "outputs": [],
   "source": [
    "df = pd.read_csv(path)"
   ]
  },
  {
   "cell_type": "code",
   "execution_count": 17,
   "metadata": {},
   "outputs": [],
   "source": [
    "df = df.dropna()"
   ]
  },
  {
   "cell_type": "code",
   "execution_count": 18,
   "metadata": {},
   "outputs": [],
   "source": [
    "df.columns = ['id','video_id','time','author','text']"
   ]
  },
  {
   "cell_type": "code",
   "execution_count": 19,
   "metadata": {},
   "outputs": [],
   "source": [
    "emoji_pattern = re.compile(\"[\"\n",
    "        u\"\\U0001F600-\\U0001F64F\"  # emoticons\n",
    "        u\"\\U0001F300-\\U0001F5FF\"  # symbols & pictographs\n",
    "        u\"\\U0001F680-\\U0001F6FF\"  # transport & map symbols\n",
    "        u\"\\U0001F1E0-\\U0001F1FF\"  # flags (iOS)\n",
    "                           \"]+\", flags=re.UNICODE)"
   ]
  },
  {
   "cell_type": "code",
   "execution_count": 20,
   "metadata": {},
   "outputs": [],
   "source": [
    "def clean(x):\n",
    "    ad = AlphabetDetector()\n",
    "    res = x\n",
    "    for ch in string.punctuation:                                                                                                     \n",
    "        res = res.replace(ch, ' ')\n",
    "    res = ''.join([i for i in res if not i.isdigit()])\n",
    "    res = res.lower()\n",
    "    res = emoji_pattern.sub(r' ', res)\n",
    "    res = res.replace('\\n', ' ')\n",
    "    res = res.replace('\\ufeff', ' ')\n",
    "    res = res.replace('\\r\\n', '  ')\n",
    "    res = res.replace('\\xa0', ' ')\n",
    "    res = res.replace('ё', 'е')\n",
    "    res = re.sub(' +',' ', res)\n",
    "    if  not ad.only_alphabet_chars(res, \"CYRILLIC\"): \n",
    "        res = ''\n",
    "    return res"
   ]
  },
  {
   "cell_type": "code",
   "execution_count": 21,
   "metadata": {},
   "outputs": [],
   "source": [
    "df.text = df.text.apply(clean)\n",
    "df = df[df.text != '']"
   ]
  },
  {
   "cell_type": "code",
   "execution_count": 22,
   "metadata": {},
   "outputs": [
    {
     "data": {
      "text/html": [
       "<div>\n",
       "<style>\n",
       "    .dataframe thead tr:only-child th {\n",
       "        text-align: right;\n",
       "    }\n",
       "\n",
       "    .dataframe thead th {\n",
       "        text-align: left;\n",
       "    }\n",
       "\n",
       "    .dataframe tbody tr th {\n",
       "        vertical-align: top;\n",
       "    }\n",
       "</style>\n",
       "<table border=\"1\" class=\"dataframe\">\n",
       "  <thead>\n",
       "    <tr style=\"text-align: right;\">\n",
       "      <th></th>\n",
       "      <th>id</th>\n",
       "      <th>video_id</th>\n",
       "      <th>time</th>\n",
       "      <th>author</th>\n",
       "      <th>text</th>\n",
       "    </tr>\n",
       "  </thead>\n",
       "  <tbody>\n",
       "    <tr>\n",
       "      <th>0</th>\n",
       "      <td>UgygtiZyJIQoKYMr5-14AaABAg</td>\n",
       "      <td>_k-gDXrfu-s</td>\n",
       "      <td>4 days ago</td>\n",
       "      <td>Taki Mizu</td>\n",
       "      <td>нужно было из града всю толпу поливать</td>\n",
       "    </tr>\n",
       "    <tr>\n",
       "      <th>1</th>\n",
       "      <td>UgxdRnsYt37Ega0lMfJ4AaABAg</td>\n",
       "      <td>_k-gDXrfu-s</td>\n",
       "      <td>5 days ago</td>\n",
       "      <td>Дональд Трамп</td>\n",
       "      <td>слава беркуту спасибо зато что хотели уберечь ...</td>\n",
       "    </tr>\n",
       "    <tr>\n",
       "      <th>2</th>\n",
       "      <td>UgyM1RlUb-cSyMCfGTt4AaABAg</td>\n",
       "      <td>_k-gDXrfu-s</td>\n",
       "      <td>1 week ago</td>\n",
       "      <td>Светлана Агзамова</td>\n",
       "      <td>беркуту позор</td>\n",
       "    </tr>\n",
       "    <tr>\n",
       "      <th>3</th>\n",
       "      <td>Ugy_jfinirWXeqK3f5p4AaABAg</td>\n",
       "      <td>_k-gDXrfu-s</td>\n",
       "      <td>1 week ago</td>\n",
       "      <td>Sonya Nishpal</td>\n",
       "      <td>как можно быть такими жестокими извиняюсь за р...</td>\n",
       "    </tr>\n",
       "    <tr>\n",
       "      <th>4</th>\n",
       "      <td>Ugx85dWKg6e-RcpEuv94AaABAg</td>\n",
       "      <td>_k-gDXrfu-s</td>\n",
       "      <td>1 week ago (edited)</td>\n",
       "      <td>Bro Rik</td>\n",
       "      <td>в итоге продали свою жопу за что дохли как соб...</td>\n",
       "    </tr>\n",
       "  </tbody>\n",
       "</table>\n",
       "</div>"
      ],
      "text/plain": [
       "                           id     video_id                 time  \\\n",
       "0  UgygtiZyJIQoKYMr5-14AaABAg  _k-gDXrfu-s           4 days ago   \n",
       "1  UgxdRnsYt37Ega0lMfJ4AaABAg  _k-gDXrfu-s           5 days ago   \n",
       "2  UgyM1RlUb-cSyMCfGTt4AaABAg  _k-gDXrfu-s           1 week ago   \n",
       "3  Ugy_jfinirWXeqK3f5p4AaABAg  _k-gDXrfu-s           1 week ago   \n",
       "4  Ugx85dWKg6e-RcpEuv94AaABAg  _k-gDXrfu-s  1 week ago (edited)   \n",
       "\n",
       "              author                                               text  \n",
       "0          Taki Mizu            нужно было из града всю толпу поливать   \n",
       "1      Дональд Трамп  слава беркуту спасибо зато что хотели уберечь ...  \n",
       "2  Светлана Агзамова                                     беркуту позор   \n",
       "3      Sonya Nishpal  как можно быть такими жестокими извиняюсь за р...  \n",
       "4            Bro Rik  в итоге продали свою жопу за что дохли как соб...  "
      ]
     },
     "execution_count": 22,
     "metadata": {},
     "output_type": "execute_result"
    }
   ],
   "source": [
    "df.head()"
   ]
  },
  {
   "cell_type": "code",
   "execution_count": 23,
   "metadata": {},
   "outputs": [],
   "source": [
    "df = df.dropna()"
   ]
  },
  {
   "cell_type": "code",
   "execution_count": 24,
   "metadata": {},
   "outputs": [
    {
     "data": {
      "text/plain": [
       "46023"
      ]
     },
     "execution_count": 24,
     "metadata": {},
     "output_type": "execute_result"
    }
   ],
   "source": [
    "len(df)"
   ]
  },
  {
   "cell_type": "code",
   "execution_count": 25,
   "metadata": {},
   "outputs": [],
   "source": [
    "df.to_csv('../data/comments_clean1.csv', index = False)"
   ]
  },
  {
   "cell_type": "code",
   "execution_count": 12,
   "metadata": {},
   "outputs": [
    {
     "ename": "SyntaxError",
     "evalue": "invalid character in identifier (<ipython-input-12-380088a0dd8a>, line 1)",
     "output_type": "error",
     "traceback": [
      "\u001b[0;36m  File \u001b[0;32m\"<ipython-input-12-380088a0dd8a>\"\u001b[0;36m, line \u001b[0;32m1\u001b[0m\n\u001b[0;31m    😡😡😡\u001b[0m\n\u001b[0m      ^\u001b[0m\n\u001b[0;31mSyntaxError\u001b[0m\u001b[0;31m:\u001b[0m invalid character in identifier\n"
     ]
    }
   ],
   "source": []
  },
  {
   "cell_type": "code",
   "execution_count": null,
   "metadata": {},
   "outputs": [],
   "source": []
  }
 ],
 "metadata": {
  "kernelspec": {
   "display_name": "Python 3",
   "language": "python",
   "name": "python3"
  },
  "language_info": {
   "codemirror_mode": {
    "name": "ipython",
    "version": 3
   },
   "file_extension": ".py",
   "mimetype": "text/x-python",
   "name": "python",
   "nbconvert_exporter": "python",
   "pygments_lexer": "ipython3",
   "version": "3.5.2"
  }
 },
 "nbformat": 4,
 "nbformat_minor": 2
}
