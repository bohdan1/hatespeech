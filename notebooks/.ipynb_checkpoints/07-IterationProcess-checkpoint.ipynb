{
 "cells": [
  {
   "cell_type": "code",
   "execution_count": 1,
   "metadata": {},
   "outputs": [],
   "source": [
    "import pandas\n",
    "import operator\n",
    "import numpy as np\n",
    "from nltk import ngrams\n",
    "import seaborn as sns\n",
    "from nltk.stem.snowball import SnowballStemmer\n",
    "%matplotlib inline"
   ]
  },
  {
   "cell_type": "code",
   "execution_count": 2,
   "metadata": {},
   "outputs": [],
   "source": [
    "df = pandas.read_csv('../data/lable_stammed.csv')"
   ]
  },
  {
   "cell_type": "code",
   "execution_count": 3,
   "metadata": {},
   "outputs": [],
   "source": [
    "df = df.dropna()"
   ]
  },
  {
   "cell_type": "code",
   "execution_count": 4,
   "metadata": {},
   "outputs": [],
   "source": [
    "stemmer = SnowballStemmer(\"russian\", ignore_stopwords=True) "
   ]
  },
  {
   "cell_type": "code",
   "execution_count": 6,
   "metadata": {},
   "outputs": [],
   "source": [
    "bad_words = open('../data/bad_words_seed.txt').read().split('\\n')[:-1]"
   ]
  },
  {
   "cell_type": "code",
   "execution_count": 7,
   "metadata": {},
   "outputs": [],
   "source": [
    "bad_stemmed = dict()\n",
    "for word in bad_words:\n",
    "    bad_stemmed[word] = stemmer.stem(word)"
   ]
  },
  {
   "cell_type": "code",
   "execution_count": 8,
   "metadata": {},
   "outputs": [],
   "source": [
    "all_counts = dict()\n",
    "for sentence in df.text:\n",
    "    for word in set(sentence.split(' ')):\n",
    "        if word != '':\n",
    "            word = stemmer.stem(word)\n",
    "            if word in all_counts:\n",
    "                all_counts[word] += 1\n",
    "            else:\n",
    "                all_counts[word] = 1"
   ]
  },
  {
   "cell_type": "code",
   "execution_count": null,
   "metadata": {},
   "outputs": [],
   "source": [
    "def get_labled_parts(bad):\n",
    "    labled_part = dict()\n",
    "    part = df[df.label == True]\n",
    "    for sentence in part.text:\n",
    "        for word in set(sentence.split(' ')):\n",
    "            if word != '':\n",
    "                stemed = stemmer.stem(word)\n",
    "                if stemed != '':\n",
    "                    if all_counts[stemed] >= 20:\n",
    "                        if stemed in labled_part:\n",
    "                            labled_part[stemed] += 1.0/len(part)\n",
    "                        else:\n",
    "                            labled_part[stemed] = 1.0/len(part)\n",
    "    "
   ]
  }
 ],
 "metadata": {
  "kernelspec": {
   "display_name": "Python 3",
   "language": "python",
   "name": "python3"
  },
  "language_info": {
   "codemirror_mode": {
    "name": "ipython",
    "version": 3
   },
   "file_extension": ".py",
   "mimetype": "text/x-python",
   "name": "python",
   "nbconvert_exporter": "python",
   "pygments_lexer": "ipython3",
   "version": "3.5.2"
  }
 },
 "nbformat": 4,
 "nbformat_minor": 2
}
