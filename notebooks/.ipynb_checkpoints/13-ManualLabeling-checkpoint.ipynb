{
 "cells": [
  {
   "cell_type": "code",
   "execution_count": 31,
   "metadata": {},
   "outputs": [],
   "source": [
    "import pandas as pd"
   ]
  },
  {
   "cell_type": "code",
   "execution_count": 32,
   "metadata": {},
   "outputs": [],
   "source": [
    "manual = pd.read_csv('../data/manual.csv')"
   ]
  },
  {
   "cell_type": "code",
   "execution_count": 33,
   "metadata": {},
   "outputs": [],
   "source": [
    "df = pd.read_csv('../data/comments_clean1.csv')"
   ]
  },
  {
   "cell_type": "code",
   "execution_count": 34,
   "metadata": {},
   "outputs": [],
   "source": [
    "df = df[~df.id.isin(manual.id)]"
   ]
  },
  {
   "cell_type": "code",
   "execution_count": 35,
   "metadata": {},
   "outputs": [],
   "source": [
    "sample = df.sample(1000)"
   ]
  },
  {
   "cell_type": "code",
   "execution_count": 36,
   "metadata": {},
   "outputs": [],
   "source": [
    "sample['label'] = False "
   ]
  },
  {
   "cell_type": "code",
   "execution_count": 37,
   "metadata": {},
   "outputs": [],
   "source": [
    "sample['hate'] = False"
   ]
  },
  {
   "cell_type": "code",
   "execution_count": 38,
   "metadata": {},
   "outputs": [],
   "source": [
    "sample['evaluated'] = False #This varaible checks if coment was manualy labeled"
   ]
  },
  {
   "cell_type": "code",
   "execution_count": 39,
   "metadata": {},
   "outputs": [],
   "source": [
    "# this subsample is used for the case if you want to stop labeling at some moment and then continue\n",
    "subsample = sample[(sample.label == False) & (sample.hate == False) & (sample.evaluated == False)]"
   ]
  },
  {
   "cell_type": "code",
   "execution_count": 40,
   "metadata": {},
   "outputs": [
    {
     "name": "stdout",
     "output_type": "stream",
     "text": [
      "0\n",
      "смотрите у нас на канале полное видео о нападение на автомайдан \n",
      "Abusive? :3\n",
      "1\n",
      " ілля хариняк за год \n",
      "Abusive? :3\n",
      "2\n",
      " зашел в ютуб а там извените видео скрыто зайдите на фейсбук наталия чубата там есть оно \n",
      "Abusive? :3\n",
      "3\n",
      " денис назаренко быдлана твои родители воспитали и таких к сожалению в этой стране довольно много \n",
      "Abusive? :1\n",
      "4\n",
      "я живу в россии но у меня родные есть с украины я наполовину украинец як боляче бачити свій другий будинок розбитим і не мати можливості щось змінити \n",
      "Abusive? :3\n",
      "5\n",
      "честно говоря надеялся что этот ролик в чем то изменит мое отношения к событиям на украине но нет не изменил а напротив убедил еще сильнее в мнении что толпа баранов озброенных собственным достоинством совершила переворот который вверг страну в хаос нищую страну сделали еще ущербнее нищую страну в нищете которой виноваты только они сами каждый из украинцев и не надо перекладывать вину на других кроме вас самих никто вам не поможет и не надо разом с дымом вдыхать запах свободы вы все свободны рабовладельческий строй закончился давным давно с каких колен вы там встали на майдане если башка не варит и лень одолевает то будешь ты рабом в любой стране и при любом строе чтобы жить по человечески надо пахать а не нарождать отдельную краину в центре киева не нравится власть смените ее все инструменты для этого есть майдан нужен был кличкам и яйценюкам не имеющим достаточной поддержки народа украины чтобы прийти к власти легально смотрю на вас со стороны и блевать тянет до выборов пол года оставалось идите работайте обеспечьте свою семью и не ждите как рабы подачек ни от кого украинец убей в себе раба иди заработай денег сам \n",
      "Abusive? :0\n"
     ]
    }
   ],
   "source": [
    "# Press 1 if coment has abusive language\n",
    "# Press 2 if coment has hateful language (e.g хахалы)\n",
    "# Press 3 if coment doesn't any abusive and hateful language\n",
    "# Press 0 if you want to stop \n",
    "count = 0\n",
    "for i in subsample.index:\n",
    "    print(count)\n",
    "    print(sample.loc[i]['text'])\n",
    "    label = int(input('Abusive? :'))\n",
    "    if label == 1:\n",
    "        sample.at[i, 'label'] = True # Coment has abusive language\n",
    "    elif label == 2:\n",
    "        sample.at[i, 'hate'] = True   # Coment has hateful language\n",
    "        sample.at[i, 'label'] = True  # All hateful language is abusive by default    \n",
    "    elif label == 0:\n",
    "        break\n",
    "    sample.at[i, 'evaluated'] = True # Set that comment was manualy labeled\n",
    "    count += 1"
   ]
  },
  {
   "cell_type": "code",
   "execution_count": 41,
   "metadata": {},
   "outputs": [
    {
     "name": "stdout",
     "output_type": "stream",
     "text": [
      "Please, label all coments in sample\n"
     ]
    }
   ],
   "source": [
    "if len(sample[sample.evaluated == False]) == 0:\n",
    "    new_labeled = pd.concat([manual, sample])\n",
    "    new_labeled.to_csv('../data/manual.csv', index=False)\n",
    "else:\n",
    "    print('Please, label all coments in sample')"
   ]
  },
  {
   "cell_type": "code",
   "execution_count": null,
   "metadata": {},
   "outputs": [],
   "source": []
  }
 ],
 "metadata": {
  "kernelspec": {
   "display_name": "Python 3",
   "language": "python",
   "name": "python3"
  },
  "language_info": {
   "codemirror_mode": {
    "name": "ipython",
    "version": 3
   },
   "file_extension": ".py",
   "mimetype": "text/x-python",
   "name": "python",
   "nbconvert_exporter": "python",
   "pygments_lexer": "ipython3",
   "version": "3.5.2"
  }
 },
 "nbformat": 4,
 "nbformat_minor": 2
}
