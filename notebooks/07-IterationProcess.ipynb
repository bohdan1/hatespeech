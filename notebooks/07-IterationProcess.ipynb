{
 "cells": [
  {
   "cell_type": "code",
   "execution_count": 1,
   "metadata": {},
   "outputs": [],
   "source": [
    "import pandas as pd\n",
    "import operator\n",
    "import numpy as np\n",
    "from nltk import ngrams\n",
    "import seaborn as sns\n",
    "import nltk\n",
    "from nltk.stem.snowball import SnowballStemmer\n",
    "%matplotlib inline"
   ]
  },
  {
   "cell_type": "code",
   "execution_count": 38,
   "metadata": {},
   "outputs": [],
   "source": [
    "df = pd.read_csv('../data/lable_stammed.csv')"
   ]
  },
  {
   "cell_type": "code",
   "execution_count": 3,
   "metadata": {},
   "outputs": [],
   "source": [
    "\n",
    "manual = pd.read_csv('../data/manual.csv')"
   ]
  },
  {
   "cell_type": "code",
   "execution_count": 41,
   "metadata": {},
   "outputs": [
    {
     "data": {
      "text/plain": [
       "5861"
      ]
     },
     "execution_count": 41,
     "metadata": {},
     "output_type": "execute_result"
    }
   ],
   "source": [
    "len(df[df.label == True])"
   ]
  },
  {
   "cell_type": "code",
   "execution_count": 42,
   "metadata": {},
   "outputs": [
    {
     "data": {
      "text/plain": [
       "46023"
      ]
     },
     "execution_count": 42,
     "metadata": {},
     "output_type": "execute_result"
    }
   ],
   "source": [
    "len(df)"
   ]
  },
  {
   "cell_type": "code",
   "execution_count": 43,
   "metadata": {},
   "outputs": [],
   "source": [
    "df = df.dropna()"
   ]
  },
  {
   "cell_type": "code",
   "execution_count": 44,
   "metadata": {},
   "outputs": [],
   "source": [
    "def delete_short_words(x):\n",
    "    new_string = ' '.join([w for w in x.split() if len(w)>2])\n",
    "    return new_string"
   ]
  },
  {
   "cell_type": "code",
   "execution_count": 45,
   "metadata": {},
   "outputs": [],
   "source": [
    "df['text'] = df['text'].apply(delete_short_words)"
   ]
  },
  {
   "cell_type": "code",
   "execution_count": 46,
   "metadata": {},
   "outputs": [
    {
     "data": {
      "text/html": [
       "<div>\n",
       "<style>\n",
       "    .dataframe thead tr:only-child th {\n",
       "        text-align: right;\n",
       "    }\n",
       "\n",
       "    .dataframe thead th {\n",
       "        text-align: left;\n",
       "    }\n",
       "\n",
       "    .dataframe tbody tr th {\n",
       "        vertical-align: top;\n",
       "    }\n",
       "</style>\n",
       "<table border=\"1\" class=\"dataframe\">\n",
       "  <thead>\n",
       "    <tr style=\"text-align: right;\">\n",
       "      <th></th>\n",
       "      <th>id</th>\n",
       "      <th>video_id</th>\n",
       "      <th>time</th>\n",
       "      <th>author</th>\n",
       "      <th>text</th>\n",
       "      <th>label</th>\n",
       "    </tr>\n",
       "  </thead>\n",
       "  <tbody>\n",
       "    <tr>\n",
       "      <th>0</th>\n",
       "      <td>UgygtiZyJIQoKYMr5-14AaABAg</td>\n",
       "      <td>_k-gDXrfu-s</td>\n",
       "      <td>4 days ago</td>\n",
       "      <td>Taki Mizu</td>\n",
       "      <td>нужно было града всю толпу поливать</td>\n",
       "      <td>False</td>\n",
       "    </tr>\n",
       "  </tbody>\n",
       "</table>\n",
       "</div>"
      ],
      "text/plain": [
       "                           id     video_id        time     author  \\\n",
       "0  UgygtiZyJIQoKYMr5-14AaABAg  _k-gDXrfu-s  4 days ago  Taki Mizu   \n",
       "\n",
       "                                  text  label  \n",
       "0  нужно было града всю толпу поливать  False  "
      ]
     },
     "execution_count": 46,
     "metadata": {},
     "output_type": "execute_result"
    }
   ],
   "source": [
    "df.head(1)"
   ]
  },
  {
   "cell_type": "code",
   "execution_count": 47,
   "metadata": {},
   "outputs": [],
   "source": [
    "df = df[~df.id.isin(manual.id)]"
   ]
  },
  {
   "cell_type": "code",
   "execution_count": 48,
   "metadata": {},
   "outputs": [
    {
     "data": {
      "text/plain": [
       "45190"
      ]
     },
     "execution_count": 48,
     "metadata": {},
     "output_type": "execute_result"
    }
   ],
   "source": [
    "len(df)"
   ]
  },
  {
   "cell_type": "code",
   "execution_count": 49,
   "metadata": {},
   "outputs": [],
   "source": [
    "stemmer = SnowballStemmer(\"russian\", ignore_stopwords=True) "
   ]
  },
  {
   "cell_type": "code",
   "execution_count": 50,
   "metadata": {},
   "outputs": [],
   "source": [
    "def stem(word):\n",
    "    stemmer = SnowballStemmer(\"russian\", ignore_stopwords=True) \n",
    "    res = stemmer.stem(word)\n",
    "    if len(res) <= 2:\n",
    "        return word\n",
    "    return res"
   ]
  },
  {
   "cell_type": "code",
   "execution_count": 51,
   "metadata": {},
   "outputs": [],
   "source": [
    "bad_words = open('../data/bad_words_seed.txt').read().split('\\n')[:-1]"
   ]
  },
  {
   "cell_type": "code",
   "execution_count": 52,
   "metadata": {},
   "outputs": [],
   "source": [
    "report_dictionary = []\n",
    "stemmed_dictionary = []"
   ]
  },
  {
   "cell_type": "code",
   "execution_count": 53,
   "metadata": {},
   "outputs": [
    {
     "data": {
      "text/plain": [
       "['бля', 'сука', 'пизда', 'ебать', 'хуй']"
      ]
     },
     "execution_count": 53,
     "metadata": {},
     "output_type": "execute_result"
    }
   ],
   "source": [
    "bad_words"
   ]
  },
  {
   "cell_type": "code",
   "execution_count": 54,
   "metadata": {},
   "outputs": [],
   "source": [
    "for word in bad_words:\n",
    "    report_dictionary.append(word)\n",
    "    stemmed_dictionary.append(stem(word))"
   ]
  },
  {
   "cell_type": "code",
   "execution_count": 55,
   "metadata": {},
   "outputs": [],
   "source": [
    "stemmed_dictionary = [i for i in stemmed_dictionary if len(i) > 2]"
   ]
  },
  {
   "cell_type": "code",
   "execution_count": 56,
   "metadata": {},
   "outputs": [],
   "source": [
    "stemmed_dictionary = list(set(stemmed_dictionary))"
   ]
  },
  {
   "cell_type": "code",
   "execution_count": 57,
   "metadata": {},
   "outputs": [],
   "source": [
    "stemmed_dictionary.append('хуй')\n",
    "stemmed_dictionary.append('хуе')"
   ]
  },
  {
   "cell_type": "code",
   "execution_count": 58,
   "metadata": {},
   "outputs": [
    {
     "data": {
      "text/plain": [
       "['сук', 'бля', 'еба', 'пизд', 'хуй', 'хуй', 'хуе']"
      ]
     },
     "execution_count": 58,
     "metadata": {},
     "output_type": "execute_result"
    }
   ],
   "source": [
    "stemmed_dictionary"
   ]
  },
  {
   "cell_type": "code",
   "execution_count": 59,
   "metadata": {},
   "outputs": [],
   "source": [
    "all_stemmed = dict()\n",
    "for sentence in df.text:\n",
    "    for word in set(sentence.split(' ')):\n",
    "        if word != '':\n",
    "            if word not in all_stemmed:\n",
    "                all_stemmed[word] = stem(word)"
   ]
  },
  {
   "cell_type": "code",
   "execution_count": 60,
   "metadata": {},
   "outputs": [],
   "source": [
    "all_counts = dict()\n",
    "for sentence in df.text:\n",
    "    tokens = nltk.word_tokenize(sentence)\n",
    "    for token in tokens:\n",
    "        word = stem(token)\n",
    "        if word in all_counts:\n",
    "            all_counts[word] += 1\n",
    "        else:\n",
    "            all_counts[word] = 1"
   ]
  },
  {
   "cell_type": "code",
   "execution_count": 61,
   "metadata": {},
   "outputs": [],
   "source": [
    "def get_labled_parts(bad):\n",
    "    labled_part = dict()\n",
    "    part = df[df.label == bad]\n",
    "    for index, row in part.iterrows():\n",
    "        sentence = row.text\n",
    "        tokens = nltk.word_tokenize(sentence)\n",
    "        for token in tokens:\n",
    "            stemed = stem(token)\n",
    "            if stemed != '':\n",
    "                if all_counts[stemed] >= 20:\n",
    "                    if stemed in labled_part:\n",
    "                        labled_part[stemed] += 1.0/len(part)\n",
    "                    else:\n",
    "                        labled_part[stemed] = 1.0/len(part)\n",
    "    return labled_part"
   ]
  },
  {
   "cell_type": "code",
   "execution_count": 62,
   "metadata": {},
   "outputs": [],
   "source": [
    "def sort(x, rev = True):\n",
    "    return sorted(x.items(), key=operator.itemgetter(1), reverse=rev)"
   ]
  },
  {
   "cell_type": "code",
   "execution_count": 63,
   "metadata": {},
   "outputs": [],
   "source": [
    "def probability_bad(p_good, p_bad):\n",
    "    difference = dict()\n",
    "    for key in p_good:\n",
    "        if key in p_bad:\n",
    "            difference[key] =(p_bad[key] - p_good[key])/ np.maximum( p_bad[key], p_good[key]) \n",
    "    return difference"
   ]
  },
  {
   "cell_type": "code",
   "execution_count": 64,
   "metadata": {},
   "outputs": [],
   "source": [
    "def logg_odds(p_good, p_bad):\n",
    "    ratio = dict()\n",
    "    for key in p_good:\n",
    "        if key in p_bad:\n",
    "            odds_good =  p_good[key]/(1 -  p_good[key])\n",
    "            odds_bad = p_bad[key]/(1- p_bad[key])\n",
    "            ratio[key] = np.log(odds_bad/odds_good)\n",
    "    return ratio"
   ]
  },
  {
   "cell_type": "code",
   "execution_count": 65,
   "metadata": {},
   "outputs": [],
   "source": [
    "def relable(x):\n",
    "    global stemmed_dictionary\n",
    "    tokens = nltk.word_tokenize(x)\n",
    "    #tokens = [stemmer.stem(token) for token in tokens]\n",
    "    #if any(bad_word in tokens for bad_word in stemmed_dictionary):\n",
    "        #return True\n",
    "    for bad_word in stemmed_dictionary:\n",
    "        for token in tokens:\n",
    "            if bad_word in token:\n",
    "                return True\n",
    "    return False"
   ]
  },
  {
   "cell_type": "code",
   "execution_count": 66,
   "metadata": {},
   "outputs": [],
   "source": [
    "def unstem(stem):\n",
    "    res = []\n",
    "    for key in all_stemmed:\n",
    "        if all_stemmed[key] == stem:\n",
    "            res.append(key)\n",
    "    return res    "
   ]
  },
  {
   "cell_type": "code",
   "execution_count": 67,
   "metadata": {},
   "outputs": [],
   "source": [
    "def update_dictionary(word):\n",
    "    global stemmed_dictionary\n",
    "    if len(word) <= 2:\n",
    "        return False\n",
    "    #for key in stemmed_dictionary:\n",
    "        #if word in key:\n",
    "            #return False\n",
    "    stemmed_dictionary.append(word)\n",
    "    return True"
   ]
  },
  {
   "cell_type": "code",
   "execution_count": 70,
   "metadata": {},
   "outputs": [],
   "source": [
    "def iterate(df, report_dictionary, stemmed_dictionary):\n",
    "    iter = True\n",
    "    while(iter):\n",
    "        print('-----------------------------------')\n",
    "        print('labled as abusive: ', len(df[df.label == True]))\n",
    "        #print('List of bad_words')\n",
    "        #print(report_dictionary)\n",
    "        p_bad = get_labled_parts(True)\n",
    "        p_good = get_labled_parts(False)\n",
    "        prob = logg_odds(p_good, p_bad)\n",
    "        print(sort(prob)[:10])\n",
    "        print('New bad words')\n",
    "        new_words = []\n",
    "        for key in prob:\n",
    "            if prob[key] > 2.5:\n",
    "                if update_dictionary(key):\n",
    "                    new_words += unstem(key)\n",
    "                    print( unstem(key))\n",
    "        report_dictionary += new_words\n",
    "        if len(new_words) == 0:\n",
    "            iter = False\n",
    "            break\n",
    "        #print('\\nNew dictionary')\n",
    "        #print(report_dictionary)\n",
    "        df['label'] =  df.text.apply(relable)\n",
    "        print('relabled as abusive: ', len(df[df.label == True]))\n",
    "\n",
    "        \n",
    "    "
   ]
  },
  {
   "cell_type": "code",
   "execution_count": 71,
   "metadata": {},
   "outputs": [
    {
     "name": "stdout",
     "output_type": "stream",
     "text": [
      "-----------------------------------\n",
      "labled as abusive:  5753\n",
      "[('пох', 2.8594630284321307), ('закупа', 2.8150680395931196), ('финлянд', 2.681511285247042), ('погон', 2.586111732042758), ('кароч', 2.5637028872258703), ('уебок', 2.502903943087021), ('драл', 2.502903943087021), ('ебуч', 2.3734582038032257), ('подруг', 2.3690239969560065), ('працюват', 2.3690239969560065)]\n",
      "New bad words\n",
      "['финляндии', 'финляндия', 'финляндией', 'финляндию']\n",
      "['уебок']\n",
      "['закупаются', 'закупается', 'закупает', 'закупают', 'закупать', 'закупаем']\n",
      "['драли', 'дрался', 'дрались', 'драл']\n",
      "['погон', 'погонах', 'погоните', 'погонов', 'погоны', 'погонит', 'погонь', 'погонят']\n",
      "['карочь', 'кароч', 'кароче']\n",
      "['пох', 'похую', 'поху', 'похуй', 'похила']\n",
      "relabled as abusive:  5153\n",
      "-----------------------------------\n",
      "labled as abusive:  5153\n",
      "[('чао', 4.356648880940477), ('нах', 3.590235597320391), ('засад', 3.500348530537158), ('нех', 3.4026268579183667), ('треб', 3.0331698669507445), ('ебуч', 2.49956709536204), ('корабл', 2.325842585079904), ('працюват', 2.3148654114043175), ('сос', 2.31420028821268), ('уебк', 2.2398559298717893)]\n",
      "New bad words\n",
      "['наху', 'нах', 'нахуй']\n",
      "['требующий', 'требую', 'требе', 'требует', 'требо', 'треба', 'требуются', 'требуют', 'требуется', 'требующие', 'требуй']\n",
      "['чао']\n",
      "['нехуй', 'неху', 'нехило', 'нех']\n",
      "['засаду', 'засаде', 'засади', 'засада', 'засадить', 'засадят', 'засадили']\n",
      "relabled as abusive:  6333\n",
      "-----------------------------------\n",
      "labled as abusive:  6333\n",
      "[('колхоз', 2.663470709104013), ('працюват', 2.643142238081561), ('”', 2.375737156600741), ('ебуч', 2.3233614036552424), ('корабл', 2.313829090159847), ('подруг', 2.257928379924754), ('задав', 2.1836621674035843), ('сос', 2.155670743703836), ('экра', 2.1525421225847077), ('ниху', 2.1488294874829212)]\n",
      "New bad words\n",
      "['колхозы', 'колхозах', 'колхозам', 'колхозу', 'колхозов', 'колхоз', 'колхоза']\n",
      "['працювати']\n",
      "relabled as abusive:  6356\n",
      "-----------------------------------\n",
      "labled as abusive:  6356\n",
      "[('”', 2.371511737122451), ('ебуч', 2.3191189892295077), ('корабл', 2.3095984065204624), ('подруг', 2.2537029451976345), ('ниху', 2.220000806194742), ('марк', 2.1812570767308728), ('задав', 2.179437306508308), ('сос', 2.151418196373183), ('экра', 2.1483166726079728), ('руин', 2.137820476492551)]\n",
      "New bad words\n"
     ]
    }
   ],
   "source": [
    "iterate(df, report_dictionary, stemmed_dictionary)"
   ]
  },
  {
   "cell_type": "code",
   "execution_count": 39,
   "metadata": {},
   "outputs": [],
   "source": [
    " df['label'] =  df.text.apply(relable)"
   ]
  },
  {
   "cell_type": "code",
   "execution_count": 40,
   "metadata": {},
   "outputs": [
    {
     "data": {
      "text/plain": [
       "5861"
      ]
     },
     "execution_count": 40,
     "metadata": {},
     "output_type": "execute_result"
    }
   ],
   "source": [
    "len(df[df.label == True])"
   ]
  },
  {
   "cell_type": "code",
   "execution_count": 33,
   "metadata": {},
   "outputs": [
    {
     "data": {
      "text/plain": [
       "7"
      ]
     },
     "execution_count": 33,
     "metadata": {},
     "output_type": "execute_result"
    }
   ],
   "source": [
    "len(stemmed_dictionary)"
   ]
  },
  {
   "cell_type": "code",
   "execution_count": 155,
   "metadata": {},
   "outputs": [],
   "source": [
    "manual['evaluation'] = False"
   ]
  },
  {
   "cell_type": "code",
   "execution_count": 72,
   "metadata": {},
   "outputs": [],
   "source": [
    "manual['evaluation'] = manual.text.apply(relable)"
   ]
  },
  {
   "cell_type": "code",
   "execution_count": 73,
   "metadata": {},
   "outputs": [
    {
     "name": "stdout",
     "output_type": "stream",
     "text": [
      "accuracy:  0.3701923076923077\n",
      "precision:  0.7727272727272727\n",
      "recall:  0.3439306358381503\n",
      "f1:  0.4760000000000001\n"
     ]
    }
   ],
   "source": [
    "tp = 0\n",
    "tn = 0\n",
    "fp = 0\n",
    "fn = 0\n",
    "for index, row in manual.iterrows():\n",
    "    if row.label == True and row.evaluation == True:\n",
    "        tp += 1\n",
    "    if row.label == False and row.evaluation == False:\n",
    "        tn += 1\n",
    "    if row.label == False and row.evaluation == True:\n",
    "        fp += 1\n",
    "    if row.label == True and row.evaluation == False:\n",
    "        #print(row.text)\n",
    "        fn += 1\n",
    "accuracy = (tp + fp)/(tp + fp + fn + fp)\n",
    "precision = tp/(tp + fp)\n",
    "recall = tp/(tp + fn)\n",
    "f1  = 2 * (precision * recall)/(precision + recall)\n",
    "print('accuracy: ', accuracy)\n",
    "print('precision: ', precision)\n",
    "print('recall: ', recall)\n",
    "print('f1: ', f1)"
   ]
  },
  {
   "cell_type": "code",
   "execution_count": 52,
   "metadata": {},
   "outputs": [
    {
     "data": {
      "text/plain": [
       "8"
      ]
     },
     "execution_count": 52,
     "metadata": {},
     "output_type": "execute_result"
    }
   ],
   "source": [
    "fp"
   ]
  },
  {
   "cell_type": "code",
   "execution_count": 26,
   "metadata": {},
   "outputs": [
    {
     "data": {
      "text/plain": [
       "['пизд', 'бля', 'еба', 'сук', 'хуй', 'хуе', 'хуё']"
      ]
     },
     "execution_count": 26,
     "metadata": {},
     "output_type": "execute_result"
    }
   ],
   "source": [
    "stemmed_dictionary"
   ]
  },
  {
   "cell_type": "code",
   "execution_count": 32,
   "metadata": {},
   "outputs": [
    {
     "data": {
      "text/plain": [
       "True"
      ]
     },
     "execution_count": 32,
     "metadata": {},
     "output_type": "execute_result"
    }
   ],
   "source": [
    "update_dictionary('жоп')"
   ]
  },
  {
   "cell_type": "code",
   "execution_count": 122,
   "metadata": {},
   "outputs": [],
   "source": [
    "for sentence in df[df.label == False].text:\n",
    "    tokens = nltk.word_tokenize(sentence)\n",
    "    for token in tokens:\n",
    "        if 'заеба' in tokens:\n",
    "            print(sentence)"
   ]
  },
  {
   "cell_type": "code",
   "execution_count": 109,
   "metadata": {},
   "outputs": [
    {
     "data": {
      "text/plain": [
       "40736"
      ]
     },
     "execution_count": 109,
     "metadata": {},
     "output_type": "execute_result"
    }
   ],
   "source": [
    "len(df[df.label == False])"
   ]
  },
  {
   "cell_type": "code",
   "execution_count": 128,
   "metadata": {},
   "outputs": [
    {
     "name": "stdout",
     "output_type": "stream",
     "text": [
      "id                UgjG1EIXs7u90HgCoAEC.7-H0Z7-9Z8q7O1Rsamreoe\n",
      "video_id                                          IC7sx75-A0Q\n",
      "time                                              2 years ago\n",
      "author                                                   Эрик\n",
      "text         евстегнеич ну я же не виноват что у тебя судь...\n",
      "label                                                   False\n",
      "Name: 12781, dtype: object\n",
      "id                                       Ugj4kkvCw5mVwHgCoAEC\n",
      "video_id                                          0WsJ8-tJeC8\n",
      "time                                              4 years ago\n",
      "author                                         Вадим Журавлев\n",
      "text        националисты майдана выкололи глаз беркутовцу ...\n",
      "label                                                   False\n",
      "Name: 39740, dtype: object\n"
     ]
    }
   ],
   "source": [
    "c = get_labled_parts(False)"
   ]
  },
  {
   "cell_type": "code",
   "execution_count": 125,
   "metadata": {},
   "outputs": [
    {
     "data": {
      "text/plain": [
       "4.909662215239592e-05"
      ]
     },
     "execution_count": 125,
     "metadata": {},
     "output_type": "execute_result"
    }
   ],
   "source": [
    "c['заеба']"
   ]
  },
  {
   "cell_type": "code",
   "execution_count": 127,
   "metadata": {},
   "outputs": [],
   "source": [
    "\n",
    "            \n",
    "            "
   ]
  },
  {
   "cell_type": "code",
   "execution_count": 132,
   "metadata": {},
   "outputs": [
    {
     "data": {
      "text/plain": [
       "array([' евстегнеич ну я же не виноват что у тебя судьба такая что ты заёбанным родился это параша каждое утро с колен встаёт после очередной попойки '],\n",
       "      dtype=object)"
      ]
     },
     "execution_count": 132,
     "metadata": {},
     "output_type": "execute_result"
    }
   ],
   "source": [
    "df[df.id =='UgjG1EIXs7u90HgCoAEC.7-H0Z7-9Z8q7O1Rsamreoe'].text.values"
   ]
  },
  {
   "cell_type": "code",
   "execution_count": 133,
   "metadata": {},
   "outputs": [
    {
     "data": {
      "text/plain": [
       "'заеба'"
      ]
     },
     "execution_count": 133,
     "metadata": {},
     "output_type": "execute_result"
    }
   ],
   "source": [
    " stemmer.stem('заёбанным')"
   ]
  },
  {
   "cell_type": "code",
   "execution_count": null,
   "metadata": {},
   "outputs": [],
   "source": []
  }
 ],
 "metadata": {
  "kernelspec": {
   "display_name": "Python 3",
   "language": "python",
   "name": "python3"
  },
  "language_info": {
   "codemirror_mode": {
    "name": "ipython",
    "version": 3
   },
   "file_extension": ".py",
   "mimetype": "text/x-python",
   "name": "python",
   "nbconvert_exporter": "python",
   "pygments_lexer": "ipython3",
   "version": "3.5.2"
  }
 },
 "nbformat": 4,
 "nbformat_minor": 2
}
