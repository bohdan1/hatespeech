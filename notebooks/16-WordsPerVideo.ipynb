{
 "cells": [
  {
   "cell_type": "code",
   "execution_count": 1,
   "metadata": {},
   "outputs": [],
   "source": [
    "import pandas as pd\n",
    "from alphabet_detector import AlphabetDetector\n",
    "import string\n",
    "import re\n",
    "import nltk\n",
    "import numpy as np\n",
    "import operator\n",
    "from nltk.stem.snowball import SnowballStemmer\n",
    "import xml.etree.ElementTree"
   ]
  },
  {
   "cell_type": "code",
   "execution_count": 2,
   "metadata": {},
   "outputs": [],
   "source": [
    "df = pd.read_csv('../data/comments_clean1.csv')"
   ]
  },
  {
   "cell_type": "code",
   "execution_count": 3,
   "metadata": {},
   "outputs": [
    {
     "data": {
      "text/html": [
       "<div>\n",
       "<style>\n",
       "    .dataframe thead tr:only-child th {\n",
       "        text-align: right;\n",
       "    }\n",
       "\n",
       "    .dataframe thead th {\n",
       "        text-align: left;\n",
       "    }\n",
       "\n",
       "    .dataframe tbody tr th {\n",
       "        vertical-align: top;\n",
       "    }\n",
       "</style>\n",
       "<table border=\"1\" class=\"dataframe\">\n",
       "  <thead>\n",
       "    <tr style=\"text-align: right;\">\n",
       "      <th></th>\n",
       "      <th>id</th>\n",
       "      <th>video_id</th>\n",
       "      <th>time</th>\n",
       "      <th>author</th>\n",
       "      <th>text</th>\n",
       "    </tr>\n",
       "  </thead>\n",
       "  <tbody>\n",
       "    <tr>\n",
       "      <th>0</th>\n",
       "      <td>UgygtiZyJIQoKYMr5-14AaABAg</td>\n",
       "      <td>_k-gDXrfu-s</td>\n",
       "      <td>4 days ago</td>\n",
       "      <td>Taki Mizu</td>\n",
       "      <td>нужно было из града всю толпу поливать</td>\n",
       "    </tr>\n",
       "    <tr>\n",
       "      <th>1</th>\n",
       "      <td>UgxdRnsYt37Ega0lMfJ4AaABAg</td>\n",
       "      <td>_k-gDXrfu-s</td>\n",
       "      <td>5 days ago</td>\n",
       "      <td>Дональд Трамп</td>\n",
       "      <td>слава беркуту спасибо зато что хотели уберечь ...</td>\n",
       "    </tr>\n",
       "    <tr>\n",
       "      <th>2</th>\n",
       "      <td>UgyM1RlUb-cSyMCfGTt4AaABAg</td>\n",
       "      <td>_k-gDXrfu-s</td>\n",
       "      <td>1 week ago</td>\n",
       "      <td>Светлана Агзамова</td>\n",
       "      <td>беркуту позор</td>\n",
       "    </tr>\n",
       "    <tr>\n",
       "      <th>3</th>\n",
       "      <td>Ugy_jfinirWXeqK3f5p4AaABAg</td>\n",
       "      <td>_k-gDXrfu-s</td>\n",
       "      <td>1 week ago</td>\n",
       "      <td>Sonya Nishpal</td>\n",
       "      <td>как можно быть такими жестокими извиняюсь за р...</td>\n",
       "    </tr>\n",
       "    <tr>\n",
       "      <th>4</th>\n",
       "      <td>Ugx85dWKg6e-RcpEuv94AaABAg</td>\n",
       "      <td>_k-gDXrfu-s</td>\n",
       "      <td>1 week ago (edited)</td>\n",
       "      <td>Bro Rik</td>\n",
       "      <td>в итоге продали свою жопу за что дохли как соб...</td>\n",
       "    </tr>\n",
       "  </tbody>\n",
       "</table>\n",
       "</div>"
      ],
      "text/plain": [
       "                           id     video_id                 time  \\\n",
       "0  UgygtiZyJIQoKYMr5-14AaABAg  _k-gDXrfu-s           4 days ago   \n",
       "1  UgxdRnsYt37Ega0lMfJ4AaABAg  _k-gDXrfu-s           5 days ago   \n",
       "2  UgyM1RlUb-cSyMCfGTt4AaABAg  _k-gDXrfu-s           1 week ago   \n",
       "3  Ugy_jfinirWXeqK3f5p4AaABAg  _k-gDXrfu-s           1 week ago   \n",
       "4  Ugx85dWKg6e-RcpEuv94AaABAg  _k-gDXrfu-s  1 week ago (edited)   \n",
       "\n",
       "              author                                               text  \n",
       "0          Taki Mizu            нужно было из града всю толпу поливать   \n",
       "1      Дональд Трамп  слава беркуту спасибо зато что хотели уберечь ...  \n",
       "2  Светлана Агзамова                                     беркуту позор   \n",
       "3      Sonya Nishpal  как можно быть такими жестокими извиняюсь за р...  \n",
       "4            Bro Rik  в итоге продали свою жопу за что дохли как соб...  "
      ]
     },
     "execution_count": 3,
     "metadata": {},
     "output_type": "execute_result"
    }
   ],
   "source": [
    "df.head()"
   ]
  },
  {
   "cell_type": "code",
   "execution_count": 5,
   "metadata": {},
   "outputs": [],
   "source": [
    "def stem(word):\n",
    "    stemmer = SnowballStemmer(\"russian\", ignore_stopwords=True) \n",
    "    stemmed_word = stemmer.stem(word)\n",
    "    if len(stemmed_word) <= 2:\n",
    "        return word\n",
    "    return stemmed_word"
   ]
  },
  {
   "cell_type": "code",
   "execution_count": 6,
   "metadata": {},
   "outputs": [],
   "source": [
    "all_counts = dict()\n",
    "for sentence in df.text:\n",
    "    tokens = nltk.word_tokenize(sentence)\n",
    "    for token in tokens:\n",
    "        word = stem(token)\n",
    "        if word in all_counts:\n",
    "            all_counts[word] += 1\n",
    "        else:\n",
    "            all_counts[word] = 1"
   ]
  },
  {
   "cell_type": "code",
   "execution_count": 17,
   "metadata": {},
   "outputs": [
    {
     "data": {
      "text/plain": [
       "56305"
      ]
     },
     "execution_count": 17,
     "metadata": {},
     "output_type": "execute_result"
    }
   ],
   "source": [
    "len(all_counts)"
   ]
  },
  {
   "cell_type": "code",
   "execution_count": 19,
   "metadata": {},
   "outputs": [],
   "source": [
    "word_to_id = dict()\n",
    "for index, row in df.iterrows():\n",
    "    tokens = nltk.word_tokenize(row.text)\n",
    "    for token in tokens:\n",
    "        word = stem(token)\n",
    "        if word in word_to_id:\n",
    "            word_to_id[word].append(row.video_id)\n",
    "        else:\n",
    "            word_to_id[word] = [row.video_id]"
   ]
  },
  {
   "cell_type": "code",
   "execution_count": 20,
   "metadata": {},
   "outputs": [
    {
     "data": {
      "text/plain": [
       "56305"
      ]
     },
     "execution_count": 20,
     "metadata": {},
     "output_type": "execute_result"
    }
   ],
   "source": [
    "len(word_to_id)"
   ]
  },
  {
   "cell_type": "code",
   "execution_count": 21,
   "metadata": {},
   "outputs": [],
   "source": [
    "for key in word_to_id:\n",
    "    word_to_id[key] = list(set(word_to_id[key]))"
   ]
  },
  {
   "cell_type": "code",
   "execution_count": 22,
   "metadata": {},
   "outputs": [],
   "source": [
    "word_to_id_count = dict()\n",
    "for key in word_to_id:\n",
    "    word_to_id_count[key] = len(word_to_id[key])"
   ]
  },
  {
   "cell_type": "code",
   "execution_count": 48,
   "metadata": {},
   "outputs": [
    {
     "data": {
      "text/plain": [
       "35"
      ]
     },
     "execution_count": 48,
     "metadata": {},
     "output_type": "execute_result"
    }
   ],
   "source": [
    "all_counts['иностранц']"
   ]
  },
  {
   "cell_type": "code",
   "execution_count": 49,
   "metadata": {},
   "outputs": [
    {
     "data": {
      "text/plain": [
       "12"
      ]
     },
     "execution_count": 49,
     "metadata": {},
     "output_type": "execute_result"
    }
   ],
   "source": [
    "word_to_id_count['иностранц']"
   ]
  },
  {
   "cell_type": "code",
   "execution_count": 44,
   "metadata": {},
   "outputs": [],
   "source": [
    "count = 0\n",
    "for key in word_to_id_count:\n",
    "    if word_to_id_count[key] >2:\n",
    "        count += 1\n"
   ]
  },
  {
   "cell_type": "code",
   "execution_count": 45,
   "metadata": {},
   "outputs": [
    {
     "name": "stdout",
     "output_type": "stream",
     "text": [
      "17194\n"
     ]
    }
   ],
   "source": [
    "print(count)"
   ]
  },
  {
   "cell_type": "code",
   "execution_count": 33,
   "metadata": {},
   "outputs": [
    {
     "data": {
      "text/plain": [
       "8SqTaE4-5a4    6825\n",
       "T6IbEIBhb8o    4541\n",
       "zCmV4dX5tgs    3043\n",
       "eufNblKL65s    2941\n",
       "FXCliOGt0Jc    1831\n",
       "0WsJ8-tJeC8    1336\n",
       "H8ABnhoxhMw    1273\n",
       "GGaQ5BDNouM    1101\n",
       "E950t1WGiE0    1095\n",
       "xTfMbgQqEeg     957\n",
       "uhwtsjFbQK4     774\n",
       "SwZ_LW9NsUE     668\n",
       "V8B4KOpCSV0     636\n",
       "wObv3OVPk30     593\n",
       "IqFdatdem64     581\n",
       "IQFGSfk7NZs     569\n",
       "IC7sx75-A0Q     499\n",
       "xZUzfzTLD4U     491\n",
       "FMdk1D1ktBw     473\n",
       "yjMs_vAV6S8     461\n",
       "H_ToRtwlvpI     457\n",
       "TATn7Q207y0     418\n",
       "yBTb4KZw7vc     382\n",
       "ihixlCUv3tY     376\n",
       "AyVvGv4Seag     335\n",
       "8KdRjB7CpDo     315\n",
       "XW6hWPZglv8     309\n",
       "rngYEzRxlWU     297\n",
       "7xpI5dMsnEM     290\n",
       "X9WRKnrBT0s     288\n",
       "               ... \n",
       "HdMftqhiu7g       1\n",
       "QRIvjGP0KGE       1\n",
       "dHci-ijN5Bc       1\n",
       "tvxL9O7cBD4       1\n",
       "PE4FjSndpDQ       1\n",
       "DUNPbE9PSec       1\n",
       "IWW_l6S0zhA       1\n",
       "9l_8LLxOaaI       1\n",
       "blX7Z_4tFVU       1\n",
       "YyMq7M4PpjI       1\n",
       "Cgsixh8E9m4       1\n",
       "5oF18ieSLgk       1\n",
       "UxYUr-XrnGk       1\n",
       "iBR-C9cZR8E       1\n",
       "Dq41x-QuS8s       1\n",
       "z1OO0NsAkp4       1\n",
       "lUBjcy753LE       1\n",
       "AQAyH8zrRkw       1\n",
       "2_pMuY2Zkj4       1\n",
       "XpZRgBVFMuE       1\n",
       "r-DUhOL-pA0       1\n",
       "xG0baU0QzYk       1\n",
       "BI0U0Yh9ol8       1\n",
       "nSwwTK21sK8       1\n",
       "-yNXIFML-Us       1\n",
       "43awrMXTkQE       1\n",
       "Zj19VaezHD8       1\n",
       "feT81nXoDc8       1\n",
       "SyU_5EhFtS4       1\n",
       "A1_uUXKQVPg       1\n",
       "Name: video_id, Length: 319, dtype: int64"
      ]
     },
     "execution_count": 33,
     "metadata": {},
     "output_type": "execute_result"
    }
   ],
   "source": [
    "df.video_id.value_counts()"
   ]
  },
  {
   "cell_type": "code",
   "execution_count": null,
   "metadata": {},
   "outputs": [],
   "source": []
  }
 ],
 "metadata": {
  "kernelspec": {
   "display_name": "Python 3",
   "language": "python",
   "name": "python3"
  },
  "language_info": {
   "codemirror_mode": {
    "name": "ipython",
    "version": 3
   },
   "file_extension": ".py",
   "mimetype": "text/x-python",
   "name": "python",
   "nbconvert_exporter": "python",
   "pygments_lexer": "ipython3",
   "version": "3.5.2"
  }
 },
 "nbformat": 4,
 "nbformat_minor": 2
}
